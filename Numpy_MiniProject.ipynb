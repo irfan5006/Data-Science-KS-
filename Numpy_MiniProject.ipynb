{
  "cells": [
    {
      "cell_type": "code",
      "execution_count": 303,
      "metadata": {
        "id": "QOepuiVEQmVL"
      },
      "outputs": [],
      "source": [
        "#import the required libraries\n",
        "\n",
        "import numpy as np\n",
        "import pandas as pd"
      ]
    },
    {
      "cell_type": "markdown",
      "metadata": {
        "id": "XJJVjthYIz6w"
      },
      "source": [
        "# Step 1 : Read the Data!"
      ]
    },
    {
      "cell_type": "code",
      "execution_count": 304,
      "metadata": {
        "id": "7xcB2zo-O0t-"
      },
      "outputs": [
        {
          "data": {
            "text/html": [
              "<div>\n",
              "<style scoped>\n",
              "    .dataframe tbody tr th:only-of-type {\n",
              "        vertical-align: middle;\n",
              "    }\n",
              "\n",
              "    .dataframe tbody tr th {\n",
              "        vertical-align: top;\n",
              "    }\n",
              "\n",
              "    .dataframe thead th {\n",
              "        text-align: right;\n",
              "    }\n",
              "</style>\n",
              "<table border=\"1\" class=\"dataframe\">\n",
              "  <thead>\n",
              "    <tr style=\"text-align: right;\">\n",
              "      <th></th>\n",
              "      <th>age</th>\n",
              "      <th>education-num</th>\n",
              "      <th>race</th>\n",
              "      <th>sex</th>\n",
              "      <th>capital-gain</th>\n",
              "      <th>capital-loss</th>\n",
              "      <th>hours-per-week</th>\n",
              "      <th>income</th>\n",
              "    </tr>\n",
              "  </thead>\n",
              "  <tbody>\n",
              "    <tr>\n",
              "      <th>0</th>\n",
              "      <td>39</td>\n",
              "      <td>13</td>\n",
              "      <td>4</td>\n",
              "      <td>1</td>\n",
              "      <td>2174</td>\n",
              "      <td>0</td>\n",
              "      <td>40</td>\n",
              "      <td>0</td>\n",
              "    </tr>\n",
              "    <tr>\n",
              "      <th>1</th>\n",
              "      <td>50</td>\n",
              "      <td>13</td>\n",
              "      <td>4</td>\n",
              "      <td>1</td>\n",
              "      <td>0</td>\n",
              "      <td>0</td>\n",
              "      <td>13</td>\n",
              "      <td>0</td>\n",
              "    </tr>\n",
              "    <tr>\n",
              "      <th>2</th>\n",
              "      <td>38</td>\n",
              "      <td>9</td>\n",
              "      <td>4</td>\n",
              "      <td>1</td>\n",
              "      <td>0</td>\n",
              "      <td>0</td>\n",
              "      <td>40</td>\n",
              "      <td>0</td>\n",
              "    </tr>\n",
              "    <tr>\n",
              "      <th>3</th>\n",
              "      <td>53</td>\n",
              "      <td>7</td>\n",
              "      <td>2</td>\n",
              "      <td>1</td>\n",
              "      <td>0</td>\n",
              "      <td>0</td>\n",
              "      <td>40</td>\n",
              "      <td>0</td>\n",
              "    </tr>\n",
              "    <tr>\n",
              "      <th>4</th>\n",
              "      <td>28</td>\n",
              "      <td>13</td>\n",
              "      <td>2</td>\n",
              "      <td>0</td>\n",
              "      <td>0</td>\n",
              "      <td>0</td>\n",
              "      <td>40</td>\n",
              "      <td>0</td>\n",
              "    </tr>\n",
              "    <tr>\n",
              "      <th>...</th>\n",
              "      <td>...</td>\n",
              "      <td>...</td>\n",
              "      <td>...</td>\n",
              "      <td>...</td>\n",
              "      <td>...</td>\n",
              "      <td>...</td>\n",
              "      <td>...</td>\n",
              "      <td>...</td>\n",
              "    </tr>\n",
              "    <tr>\n",
              "      <th>995</th>\n",
              "      <td>56</td>\n",
              "      <td>9</td>\n",
              "      <td>4</td>\n",
              "      <td>1</td>\n",
              "      <td>0</td>\n",
              "      <td>0</td>\n",
              "      <td>55</td>\n",
              "      <td>1</td>\n",
              "    </tr>\n",
              "    <tr>\n",
              "      <th>996</th>\n",
              "      <td>45</td>\n",
              "      <td>14</td>\n",
              "      <td>4</td>\n",
              "      <td>1</td>\n",
              "      <td>0</td>\n",
              "      <td>0</td>\n",
              "      <td>45</td>\n",
              "      <td>0</td>\n",
              "    </tr>\n",
              "    <tr>\n",
              "      <th>997</th>\n",
              "      <td>48</td>\n",
              "      <td>13</td>\n",
              "      <td>4</td>\n",
              "      <td>1</td>\n",
              "      <td>0</td>\n",
              "      <td>0</td>\n",
              "      <td>58</td>\n",
              "      <td>1</td>\n",
              "    </tr>\n",
              "    <tr>\n",
              "      <th>998</th>\n",
              "      <td>40</td>\n",
              "      <td>10</td>\n",
              "      <td>4</td>\n",
              "      <td>1</td>\n",
              "      <td>2580</td>\n",
              "      <td>0</td>\n",
              "      <td>40</td>\n",
              "      <td>0</td>\n",
              "    </tr>\n",
              "    <tr>\n",
              "      <th>999</th>\n",
              "      <td>39</td>\n",
              "      <td>13</td>\n",
              "      <td>4</td>\n",
              "      <td>1</td>\n",
              "      <td>15024</td>\n",
              "      <td>0</td>\n",
              "      <td>50</td>\n",
              "      <td>1</td>\n",
              "    </tr>\n",
              "  </tbody>\n",
              "</table>\n",
              "<p>1000 rows × 8 columns</p>\n",
              "</div>"
            ],
            "text/plain": [
              "     age  education-num  race  sex  capital-gain  capital-loss  \\\n",
              "0     39             13     4    1          2174             0   \n",
              "1     50             13     4    1             0             0   \n",
              "2     38              9     4    1             0             0   \n",
              "3     53              7     2    1             0             0   \n",
              "4     28             13     2    0             0             0   \n",
              "..   ...            ...   ...  ...           ...           ...   \n",
              "995   56              9     4    1             0             0   \n",
              "996   45             14     4    1             0             0   \n",
              "997   48             13     4    1             0             0   \n",
              "998   40             10     4    1          2580             0   \n",
              "999   39             13     4    1         15024             0   \n",
              "\n",
              "     hours-per-week  income  \n",
              "0                40       0  \n",
              "1                13       0  \n",
              "2                40       0  \n",
              "3                40       0  \n",
              "4                40       0  \n",
              "..              ...     ...  \n",
              "995              55       1  \n",
              "996              45       0  \n",
              "997              58       1  \n",
              "998              40       0  \n",
              "999              50       1  \n",
              "\n",
              "[1000 rows x 8 columns]"
            ]
          },
          "execution_count": 304,
          "metadata": {},
          "output_type": "execute_result"
        }
      ],
      "source": [
        "#give path of the source-file and store that path in a variable named census\n",
        "\n",
        "census = pd.read_csv(\"C:\\\\Users\\\\Admin\\\\Downloads\\\\makeSenseOfCensus.csv\")\n",
        "census"
      ]
    },
    {
      "cell_type": "markdown",
      "metadata": {
        "id": "OiSJcx6GLcWT"
      },
      "source": [
        "# Loading the data"
      ]
    },
    {
      "cell_type": "markdown",
      "metadata": {
        "id": "VxJZY3U1nsPN"
      },
      "source": [
        "You have studied getfromtext in Numpy Classes, now is the time to put it into action :) Below is the half completed code, you have to substitute values for delimiter and skip_header in it for hte data to be properly read into a Data array. The output of the array has been shared with you guys followed by the code block"
      ]
    },
    {
      "cell_type": "code",
      "execution_count": 305,
      "metadata": {},
      "outputs": [
        {
          "name": "stdout",
          "output_type": "stream",
          "text": [
            "[[39. 13.  4. ...  0. 40.  0.]\n",
            " [50. 13.  4. ...  0. 13.  0.]\n",
            " [38.  9.  4. ...  0. 40.  0.]\n",
            " ...\n",
            " [48. 13.  4. ...  0. 58.  1.]\n",
            " [40. 10.  4. ...  0. 40.  0.]\n",
            " [39. 13.  4. ...  0. 50.  1.]]\n"
          ]
        }
      ],
      "source": [
        "import numpy as np\n",
        "\n",
        "# # Specify the path to your file\n",
        "census = \"C:\\\\Users\\\\Admin\\\\Downloads\\\\makeSenseOfCensus.csv\"\n",
        "\n",
        "# Read the data into a NumPy array\n",
        "census = np.genfromtxt(census, delimiter=',', skip_header=1)\n",
        "\n",
        "# Print the output\n",
        "print(census)\n"
      ]
    },
    {
      "cell_type": "markdown",
      "metadata": {
        "id": "lLoQJxpdOCfA"
      },
      "source": [
        "# Printing the type of data"
      ]
    },
    {
      "cell_type": "code",
      "execution_count": 306,
      "metadata": {
        "colab": {
          "base_uri": "https://localhost:8080/"
        },
        "id": "xkPasCIhQ1qC",
        "outputId": "5c15ee56-e668-4338-d532-ceb6487adcf0"
      },
      "outputs": [
        {
          "name": "stdout",
          "output_type": "stream",
          "text": [
            "float64\n"
          ]
        }
      ],
      "source": [
        "#print the type of data\n",
        "print(census.dtype)"
      ]
    },
    {
      "cell_type": "markdown",
      "metadata": {
        "id": "QTSTCc7jVppG"
      },
      "source": [
        "# Step 2 : Append the Data"
      ]
    },
    {
      "cell_type": "markdown",
      "metadata": {
        "id": "-gz1eP4sfRpc"
      },
      "source": [
        "A new record [[50,9,4,1,0,0,40,0]] has been given to you. You are supposed to append this new record into the data using np.concatenate()"
      ]
    },
    {
      "cell_type": "code",
      "execution_count": 307,
      "metadata": {
        "id": "jokdR-EtS1dz"
      },
      "outputs": [
        {
          "data": {
            "text/plain": [
              "array([[39., 13.,  4., ...,  0., 40.,  0.],\n",
              "       [50., 13.,  4., ...,  0., 13.,  0.],\n",
              "       [38.,  9.,  4., ...,  0., 40.,  0.],\n",
              "       ...,\n",
              "       [40., 10.,  4., ...,  0., 40.,  0.],\n",
              "       [39., 13.,  4., ...,  0., 50.,  1.],\n",
              "       [50.,  9.,  4., ...,  0., 40.,  0.]])"
            ]
          },
          "execution_count": 307,
          "metadata": {},
          "output_type": "execute_result"
        }
      ],
      "source": [
        "new_record = [[50,9,4,1,0,0,40,0]]\n",
        "data = census\n",
        "\n",
        "con_data = np.concatenate([data, new_record])\n",
        "con_data"
      ]
    },
    {
      "cell_type": "code",
      "execution_count": 308,
      "metadata": {
        "colab": {
          "base_uri": "https://localhost:8080/"
        },
        "id": "QOWjaWI3TlP4",
        "outputId": "b87c4b40-64ac-4310-db00-99b1eaad2195"
      },
      "outputs": [
        {
          "data": {
            "text/plain": [
              "[[50, 9, 4, 1, 0, 0, 40, 0]]"
            ]
          },
          "execution_count": 308,
          "metadata": {},
          "output_type": "execute_result"
        }
      ],
      "source": [
        "#display after appending the new record at the end of them\n",
        "new_record"
      ]
    },
    {
      "cell_type": "markdown",
      "metadata": {
        "id": "i_5WAJWYWHpL"
      },
      "source": [
        "# Step 3 : Check if it's a young country or old country"
      ]
    },
    {
      "cell_type": "markdown",
      "metadata": {
        "id": "_CqLiA9OWQPm"
      },
      "source": [
        " Create a new array called 'age' by taking only age column(age is the column with index 0) of 'census' array."
      ]
    },
    {
      "cell_type": "code",
      "execution_count": 309,
      "metadata": {},
      "outputs": [
        {
          "data": {
            "text/plain": [
              "array([39., 50., 38., ..., 40., 39., 50.])"
            ]
          },
          "execution_count": 309,
          "metadata": {},
          "output_type": "execute_result"
        }
      ],
      "source": [
        "age_col = con_data[:,0]\n",
        "\n",
        "age_col"
      ]
    },
    {
      "cell_type": "code",
      "execution_count": 310,
      "metadata": {
        "id": "u-v0CJlJf8XA"
      },
      "outputs": [
        {
          "name": "stdout",
          "output_type": "stream",
          "text": [
            "Median Age: 36.0\n",
            "Country Type: old Country\n"
          ]
        }
      ],
      "source": [
        "# Calculate the median age\n",
        "median_age = np.median(age_col)\n",
        "\n",
        "# Define the threshold for classification\n",
        "threshold = 30  # You can adjust this value as needed\n",
        "\n",
        "# Classify as \"young country\" or \"old country\"\n",
        "country_type = np.where(median_age < threshold, \"young Country\", \"old Country\")\n",
        "\n",
        "# Print the results\n",
        "print(\"Median Age:\", median_age)\n",
        "print(\"Country Type:\", country_type)\n"
      ]
    },
    {
      "cell_type": "markdown",
      "metadata": {
        "id": "_IyNXVKqWpPS"
      },
      "source": [
        "Find the max age and store it in a variable called 'max_age'.\n",
        "\n"
      ]
    },
    {
      "cell_type": "code",
      "execution_count": 311,
      "metadata": {
        "id": "tczhOTFif33u"
      },
      "outputs": [
        {
          "name": "stdout",
          "output_type": "stream",
          "text": [
            "The Maximum Age is :90.0\n"
          ]
        }
      ],
      "source": [
        "#print the max_age\n",
        "\n",
        "max_age = np.max(age_col)\n",
        "\n",
        "print(f\"The Maximum Age is :{max_age}\")\n",
        "\n"
      ]
    },
    {
      "cell_type": "markdown",
      "metadata": {
        "id": "ywrTp3KTWu9z"
      },
      "source": [
        "Find the min age and store it in a variable called 'min_age'."
      ]
    },
    {
      "cell_type": "code",
      "execution_count": 312,
      "metadata": {
        "id": "QJ1VfCH7f0RG"
      },
      "outputs": [
        {
          "name": "stdout",
          "output_type": "stream",
          "text": [
            "The Manimum Age is :17.0\n"
          ]
        }
      ],
      "source": [
        "#print the min_age\n",
        "min_age = np.min(age_col)\n",
        "\n",
        "print(f\"The Manimum Age is :{min_age}\")"
      ]
    },
    {
      "cell_type": "markdown",
      "metadata": {
        "id": "k6TqZMYQd8w1"
      },
      "source": [
        "Find the mean of the age and store it in a variable called 'age_mean'."
      ]
    },
    {
      "cell_type": "code",
      "execution_count": 322,
      "metadata": {
        "colab": {
          "base_uri": "https://localhost:8080/"
        },
        "id": "7dTC5eaIXs__",
        "outputId": "b23fff73-3d1f-4262-e556-9b755e1188af"
      },
      "outputs": [
        {
          "name": "stdout",
          "output_type": "stream",
          "text": [
            "The Mean Age is :38.06293706293706\n"
          ]
        }
      ],
      "source": [
        "#print the age_mean\n",
        "\n",
        "mean_age = np.mean(age_col)\n",
        "\n",
        "print(f\"The Mean Age is :{mean_age}\")\n"
      ]
    },
    {
      "cell_type": "markdown",
      "metadata": {
        "id": "GEDv3kfSeF9p"
      },
      "source": [
        "Find the standard deviation of the age and store it in a variable called 'age_std'"
      ]
    },
    {
      "cell_type": "code",
      "execution_count": 323,
      "metadata": {
        "colab": {
          "base_uri": "https://localhost:8080/"
        },
        "id": "SF33E4XbX8Yi",
        "outputId": "5312cffe-2ef8-499c-e65a-93ee94c6b176"
      },
      "outputs": [
        {
          "name": "stdout",
          "output_type": "stream",
          "text": [
            "The std Age is :38.06293706293706\n"
          ]
        }
      ],
      "source": [
        "#print the age_std\n",
        "\n",
        "std_age = np.std(age_col)\n",
        "\n",
        "print(f\"The std Age is :{mean_age}\")"
      ]
    },
    {
      "cell_type": "markdown",
      "metadata": {
        "id": "zfJWcybQecKB"
      },
      "source": [
        "# Step 4: Let's check the country's race distribution to identify the minorities"
      ]
    },
    {
      "cell_type": "markdown",
      "metadata": {
        "id": "SrvNIFGvef4r"
      },
      "source": [
        "Create four different arrays by subsetting 'census' array by Race column(Race is the column with index 2) and save them in 'race_0','race_1', 'race_2', 'race_3' and 'race_4' respectively(Meaning: Store the array where 'race'column has value 0 in 'race_0', so on and so forth)"
      ]
    },
    {
      "cell_type": "code",
      "execution_count": null,
      "metadata": {
        "colab": {
          "base_uri": "https://localhost:8080/"
        },
        "id": "2iaIx6n6YHPh",
        "outputId": "a540ec02-058f-4e3b-d050-087deff6de4a"
      },
      "outputs": [],
      "source": []
    },
    {
      "cell_type": "code",
      "execution_count": null,
      "metadata": {
        "id": "OEz-yzfrYxFC"
      },
      "outputs": [],
      "source": []
    },
    {
      "cell_type": "markdown",
      "metadata": {
        "id": "thg4wOEQeo1x"
      },
      "source": [
        "Store the length of the above created arrays in 'len_0', 'len_1','len_2', 'len_3' and 'len_4' respectively"
      ]
    },
    {
      "cell_type": "code",
      "execution_count": 315,
      "metadata": {
        "id": "6Nbz3CBkZHLY"
      },
      "outputs": [],
      "source": [
        "#len_0"
      ]
    },
    {
      "cell_type": "code",
      "execution_count": 316,
      "metadata": {
        "id": "Zm0CnpfHaWQ7"
      },
      "outputs": [],
      "source": [
        "#len_1"
      ]
    },
    {
      "cell_type": "code",
      "execution_count": 317,
      "metadata": {
        "id": "BmTApcJTab3j"
      },
      "outputs": [],
      "source": [
        "#len_2"
      ]
    },
    {
      "cell_type": "code",
      "execution_count": 318,
      "metadata": {
        "id": "O-SEHnv9afoQ"
      },
      "outputs": [],
      "source": [
        "#len_3"
      ]
    },
    {
      "cell_type": "code",
      "execution_count": 319,
      "metadata": {
        "id": "HksygZJFaogo"
      },
      "outputs": [],
      "source": [
        "#len_4"
      ]
    },
    {
      "cell_type": "markdown",
      "metadata": {
        "id": "p57jTibJezYj"
      },
      "source": [
        "Find out which is the race with the minimum no. of citizens"
      ]
    },
    {
      "cell_type": "code",
      "execution_count": null,
      "metadata": {
        "id": "axqxJHRBdMQL"
      },
      "outputs": [],
      "source": []
    },
    {
      "cell_type": "markdown",
      "metadata": {
        "id": "yJVgGJLgfJcV"
      },
      "source": [
        "Find out which is the race with the minimum no. of citizens"
      ]
    },
    {
      "cell_type": "code",
      "execution_count": null,
      "metadata": {
        "id": "LnvFjvidgdzb"
      },
      "outputs": [],
      "source": []
    },
    {
      "cell_type": "markdown",
      "metadata": {
        "id": "OJmzGHoZfSHv"
      },
      "source": [
        "Store the number associated with the minority race in a variable called 'minority_race'(For eg: if \"len(race_5)\" is the minimum, store 5 in 'minority_race' because that is the index of the race having the least no. of citizens )"
      ]
    },
    {
      "cell_type": "code",
      "execution_count": null,
      "metadata": {
        "id": "xi96yzv9gmar"
      },
      "outputs": [],
      "source": []
    },
    {
      "cell_type": "markdown",
      "metadata": {
        "id": "jrg7qCPZhwnu"
      },
      "source": [
        "Store the number associated with the minority race in a variable called 'minority_race'(For eg: if \"len(race_5)\" is the minimum, store 5 in 'minority_race' because that is the index of the race having the least no. of citizens )"
      ]
    },
    {
      "cell_type": "code",
      "execution_count": null,
      "metadata": {
        "id": "A3IPB6qMgocF"
      },
      "outputs": [],
      "source": []
    },
    {
      "cell_type": "markdown",
      "metadata": {
        "id": "E1Rwgqxf9F9V"
      },
      "source": [
        "# Step 5: As per govt. records citizens above 60 should not work more than 25 hours a week. Let us check if the policy is in place"
      ]
    },
    {
      "cell_type": "markdown",
      "metadata": {
        "id": "XT4Jy_Wn9Vww"
      },
      "source": [
        "a.Create a new subset array called 'senior_citizens' by filtering 'census' according to age>60 (age is the column with index 0)"
      ]
    },
    {
      "cell_type": "markdown",
      "metadata": {
        "id": "6AEHuxcS-uGh"
      },
      "source": [
        "[Row,Columns]  :"
      ]
    },
    {
      "cell_type": "code",
      "execution_count": 320,
      "metadata": {
        "colab": {
          "base_uri": "https://localhost:8080/"
        },
        "id": "oX6E5VZv9Z4j",
        "outputId": "cc545ce0-84fe-4e14-a8b5-9ce2beb20729"
      },
      "outputs": [],
      "source": [
        "#from age column, filter out age data > 60"
      ]
    },
    {
      "cell_type": "markdown",
      "metadata": {
        "id": "mDbsg8N0_K8b"
      },
      "source": [
        "b.Add all the working hours(working hours is the column with index 6) of 'senior_citizens' and store it in a variable called 'working_hours_sum'"
      ]
    },
    {
      "cell_type": "code",
      "execution_count": null,
      "metadata": {
        "id": "fYZTR7EMgupn"
      },
      "outputs": [],
      "source": []
    },
    {
      "cell_type": "markdown",
      "metadata": {
        "id": "l4h6_8DfBD9x"
      },
      "source": [
        "c.Find the length of 'senior_citizens' and store it in a variable called 'senior_citizens_len'"
      ]
    },
    {
      "cell_type": "code",
      "execution_count": null,
      "metadata": {
        "id": "pPExiV83gwaC"
      },
      "outputs": [],
      "source": []
    },
    {
      "cell_type": "markdown",
      "metadata": {
        "id": "-6mWgLiXBgAW"
      },
      "source": [
        "d. Finally find the average working hours of the senior citizens by dividing 'working_hours_sum' by 'senior_citizens_len' and store it in a variable called 'avg_working hours'."
      ]
    },
    {
      "cell_type": "code",
      "execution_count": null,
      "metadata": {
        "id": "AOwajHabgy29"
      },
      "outputs": [],
      "source": []
    },
    {
      "cell_type": "markdown",
      "metadata": {
        "id": "VS382pv_CY1Q"
      },
      "source": [
        "e. Print 'avg_working_hours' and see if the govt. policy is followed."
      ]
    },
    {
      "cell_type": "code",
      "execution_count": null,
      "metadata": {
        "id": "NatAJ4JBgzr4"
      },
      "outputs": [],
      "source": []
    },
    {
      "cell_type": "markdown",
      "metadata": {
        "id": "KRGhpDBKEIa-"
      },
      "source": [
        "# Step 6: Let's check that higher educated people have better pay in general."
      ]
    },
    {
      "cell_type": "markdown",
      "metadata": {
        "id": "-5rc9FarELwP"
      },
      "source": [
        "Create two new subset arrays called 'high' and 'low' by filtering 'census' according to education-num>10 and education-num<=10 (education-num is the column with index 1) respectively.\n",
        "\n"
      ]
    },
    {
      "cell_type": "code",
      "execution_count": null,
      "metadata": {
        "id": "GVA3Dgp5g2Ui"
      },
      "outputs": [],
      "source": []
    },
    {
      "cell_type": "markdown",
      "metadata": {
        "id": "I4MwXFEbFEjV"
      },
      "source": [
        "Find the mean of income column(income is the column with index 7) of 'high' array and store it in 'avg_pay_high'. Do the same for 'low' array and store it's mean in 'avg_pay_low'."
      ]
    },
    {
      "cell_type": "code",
      "execution_count": null,
      "metadata": {
        "colab": {
          "base_uri": "https://localhost:8080/"
        },
        "id": "aaHfrQd1FItV",
        "outputId": "8647ea5d-9b2f-4c74-e81c-2405c907f309"
      },
      "outputs": [],
      "source": []
    },
    {
      "cell_type": "code",
      "execution_count": null,
      "metadata": {
        "colab": {
          "base_uri": "https://localhost:8080/"
        },
        "id": "W4pJ8mhvHjlL",
        "outputId": "717875ad-efee-4549-ecc4-f883c94f561b"
      },
      "outputs": [],
      "source": []
    }
  ],
  "metadata": {
    "colab": {
      "provenance": []
    },
    "kernelspec": {
      "display_name": "py35",
      "language": "python",
      "name": "python3"
    },
    "language_info": {
      "codemirror_mode": {
        "name": "ipython",
        "version": 3
      },
      "file_extension": ".py",
      "mimetype": "text/x-python",
      "name": "python",
      "nbconvert_exporter": "python",
      "pygments_lexer": "ipython3",
      "version": "3.11.10"
    }
  },
  "nbformat": 4,
  "nbformat_minor": 0
}
